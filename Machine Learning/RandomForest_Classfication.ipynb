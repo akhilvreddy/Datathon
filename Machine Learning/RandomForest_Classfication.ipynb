{
 "cells": [
  {
   "cell_type": "code",
   "execution_count": 1,
   "id": "bf10a266",
   "metadata": {},
   "outputs": [],
   "source": [
    "from sklearn.tree import DecisionTreeClassifier \n",
    "from sklearn.model_selection import train_test_split \n",
    "from sklearn import metrics\n",
    "from sklearn.ensemble import RandomForestClassifier\n",
    "from sklearn.metrics import accuracy_score, confusion_matrix, classification_report\n",
    "import pandas as pd"
   ]
  },
  {
   "cell_type": "markdown",
   "id": "f45afab0",
   "metadata": {},
   "source": [
    "Random Forest: A classification machine learning method mainly used to predict catagorial data(in this case happiness)\n",
    "Algorithm goes through n number of decision trees and summarizes the output of them in order to produce a final output.\n",
    "\n",
    "\n",
    "Reading data, previewing"
   ]
  },
  {
   "cell_type": "code",
   "execution_count": 2,
   "id": "6c145559",
   "metadata": {
    "scrolled": false
   },
   "outputs": [
    {
     "data": {
      "text/html": [
       "<div>\n",
       "<style scoped>\n",
       "    .dataframe tbody tr th:only-of-type {\n",
       "        vertical-align: middle;\n",
       "    }\n",
       "\n",
       "    .dataframe tbody tr th {\n",
       "        vertical-align: top;\n",
       "    }\n",
       "\n",
       "    .dataframe thead th {\n",
       "        text-align: right;\n",
       "    }\n",
       "</style>\n",
       "<table border=\"1\" class=\"dataframe\">\n",
       "  <thead>\n",
       "    <tr style=\"text-align: right;\">\n",
       "      <th></th>\n",
       "      <th>Year</th>\n",
       "      <th>Rank</th>\n",
       "      <th>Country</th>\n",
       "      <th>Happiness Score</th>\n",
       "      <th>GDP per Capita</th>\n",
       "      <th>Social Support</th>\n",
       "      <th>Life Expectancy</th>\n",
       "      <th>Freedom</th>\n",
       "      <th>Generosity</th>\n",
       "      <th>Corruption</th>\n",
       "      <th>Alcohol Consumption</th>\n",
       "      <th>Gas Emissions</th>\n",
       "      <th>Happy/IsNotHappy</th>\n",
       "    </tr>\n",
       "  </thead>\n",
       "  <tbody>\n",
       "    <tr>\n",
       "      <th>0</th>\n",
       "      <td>2019</td>\n",
       "      <td>1</td>\n",
       "      <td>Finland</td>\n",
       "      <td>7.769</td>\n",
       "      <td>1.340</td>\n",
       "      <td>1.587</td>\n",
       "      <td>0.986</td>\n",
       "      <td>0.596</td>\n",
       "      <td>0.153</td>\n",
       "      <td>0.393</td>\n",
       "      <td>10.78</td>\n",
       "      <td>51.30</td>\n",
       "      <td>Yes</td>\n",
       "    </tr>\n",
       "    <tr>\n",
       "      <th>1</th>\n",
       "      <td>2019</td>\n",
       "      <td>2</td>\n",
       "      <td>Denmark</td>\n",
       "      <td>7.600</td>\n",
       "      <td>1.383</td>\n",
       "      <td>1.573</td>\n",
       "      <td>0.996</td>\n",
       "      <td>0.592</td>\n",
       "      <td>0.252</td>\n",
       "      <td>0.410</td>\n",
       "      <td>10.26</td>\n",
       "      <td>34.23</td>\n",
       "      <td>Yes</td>\n",
       "    </tr>\n",
       "    <tr>\n",
       "      <th>2</th>\n",
       "      <td>2019</td>\n",
       "      <td>3</td>\n",
       "      <td>Norway</td>\n",
       "      <td>7.554</td>\n",
       "      <td>1.488</td>\n",
       "      <td>1.582</td>\n",
       "      <td>1.028</td>\n",
       "      <td>0.603</td>\n",
       "      <td>0.271</td>\n",
       "      <td>0.341</td>\n",
       "      <td>7.41</td>\n",
       "      <td>18.43</td>\n",
       "      <td>Yes</td>\n",
       "    </tr>\n",
       "    <tr>\n",
       "      <th>3</th>\n",
       "      <td>2019</td>\n",
       "      <td>4</td>\n",
       "      <td>Iceland</td>\n",
       "      <td>7.494</td>\n",
       "      <td>1.380</td>\n",
       "      <td>1.624</td>\n",
       "      <td>1.026</td>\n",
       "      <td>0.591</td>\n",
       "      <td>0.354</td>\n",
       "      <td>0.118</td>\n",
       "      <td>9.12</td>\n",
       "      <td>2.11</td>\n",
       "      <td>Yes</td>\n",
       "    </tr>\n",
       "    <tr>\n",
       "      <th>4</th>\n",
       "      <td>2019</td>\n",
       "      <td>5</td>\n",
       "      <td>Netherlands</td>\n",
       "      <td>7.488</td>\n",
       "      <td>1.396</td>\n",
       "      <td>1.522</td>\n",
       "      <td>0.999</td>\n",
       "      <td>0.557</td>\n",
       "      <td>0.322</td>\n",
       "      <td>0.298</td>\n",
       "      <td>9.61</td>\n",
       "      <td>152.52</td>\n",
       "      <td>Yes</td>\n",
       "    </tr>\n",
       "    <tr>\n",
       "      <th>...</th>\n",
       "      <td>...</td>\n",
       "      <td>...</td>\n",
       "      <td>...</td>\n",
       "      <td>...</td>\n",
       "      <td>...</td>\n",
       "      <td>...</td>\n",
       "      <td>...</td>\n",
       "      <td>...</td>\n",
       "      <td>...</td>\n",
       "      <td>...</td>\n",
       "      <td>...</td>\n",
       "      <td>...</td>\n",
       "      <td>...</td>\n",
       "    </tr>\n",
       "    <tr>\n",
       "      <th>139</th>\n",
       "      <td>2019</td>\n",
       "      <td>152</td>\n",
       "      <td>Rwanda</td>\n",
       "      <td>3.334</td>\n",
       "      <td>0.359</td>\n",
       "      <td>0.711</td>\n",
       "      <td>0.614</td>\n",
       "      <td>0.555</td>\n",
       "      <td>0.217</td>\n",
       "      <td>0.411</td>\n",
       "      <td>8.95</td>\n",
       "      <td>2.73</td>\n",
       "      <td>No</td>\n",
       "    </tr>\n",
       "    <tr>\n",
       "      <th>140</th>\n",
       "      <td>2019</td>\n",
       "      <td>153</td>\n",
       "      <td>Tanzania</td>\n",
       "      <td>3.231</td>\n",
       "      <td>0.476</td>\n",
       "      <td>0.885</td>\n",
       "      <td>0.499</td>\n",
       "      <td>0.417</td>\n",
       "      <td>0.276</td>\n",
       "      <td>0.147</td>\n",
       "      <td>11.27</td>\n",
       "      <td>75.68</td>\n",
       "      <td>No</td>\n",
       "    </tr>\n",
       "    <tr>\n",
       "      <th>141</th>\n",
       "      <td>2019</td>\n",
       "      <td>154</td>\n",
       "      <td>Afghanistan</td>\n",
       "      <td>3.203</td>\n",
       "      <td>0.350</td>\n",
       "      <td>0.517</td>\n",
       "      <td>0.361</td>\n",
       "      <td>0.000</td>\n",
       "      <td>0.158</td>\n",
       "      <td>0.025</td>\n",
       "      <td>0.21</td>\n",
       "      <td>7.59</td>\n",
       "      <td>No</td>\n",
       "    </tr>\n",
       "    <tr>\n",
       "      <th>142</th>\n",
       "      <td>2019</td>\n",
       "      <td>155</td>\n",
       "      <td>Central African Republic</td>\n",
       "      <td>3.083</td>\n",
       "      <td>0.026</td>\n",
       "      <td>0.000</td>\n",
       "      <td>0.105</td>\n",
       "      <td>0.225</td>\n",
       "      <td>0.235</td>\n",
       "      <td>0.035</td>\n",
       "      <td>2.38</td>\n",
       "      <td>14.31</td>\n",
       "      <td>No</td>\n",
       "    </tr>\n",
       "    <tr>\n",
       "      <th>143</th>\n",
       "      <td>2019</td>\n",
       "      <td>156</td>\n",
       "      <td>South Sudan</td>\n",
       "      <td>2.853</td>\n",
       "      <td>0.306</td>\n",
       "      <td>0.575</td>\n",
       "      <td>0.295</td>\n",
       "      <td>0.010</td>\n",
       "      <td>0.202</td>\n",
       "      <td>0.091</td>\n",
       "      <td>6.16</td>\n",
       "      <td>10.28</td>\n",
       "      <td>No</td>\n",
       "    </tr>\n",
       "  </tbody>\n",
       "</table>\n",
       "<p>144 rows × 13 columns</p>\n",
       "</div>"
      ],
      "text/plain": [
       "     Year  Rank                   Country  Happiness Score  GDP per Capita  \\\n",
       "0    2019     1                   Finland            7.769           1.340   \n",
       "1    2019     2                   Denmark            7.600           1.383   \n",
       "2    2019     3                    Norway            7.554           1.488   \n",
       "3    2019     4                   Iceland            7.494           1.380   \n",
       "4    2019     5               Netherlands            7.488           1.396   \n",
       "..    ...   ...                       ...              ...             ...   \n",
       "139  2019   152                    Rwanda            3.334           0.359   \n",
       "140  2019   153                  Tanzania            3.231           0.476   \n",
       "141  2019   154               Afghanistan            3.203           0.350   \n",
       "142  2019   155  Central African Republic            3.083           0.026   \n",
       "143  2019   156               South Sudan            2.853           0.306   \n",
       "\n",
       "     Social Support  Life Expectancy  Freedom  Generosity  Corruption  \\\n",
       "0             1.587            0.986    0.596       0.153       0.393   \n",
       "1             1.573            0.996    0.592       0.252       0.410   \n",
       "2             1.582            1.028    0.603       0.271       0.341   \n",
       "3             1.624            1.026    0.591       0.354       0.118   \n",
       "4             1.522            0.999    0.557       0.322       0.298   \n",
       "..              ...              ...      ...         ...         ...   \n",
       "139           0.711            0.614    0.555       0.217       0.411   \n",
       "140           0.885            0.499    0.417       0.276       0.147   \n",
       "141           0.517            0.361    0.000       0.158       0.025   \n",
       "142           0.000            0.105    0.225       0.235       0.035   \n",
       "143           0.575            0.295    0.010       0.202       0.091   \n",
       "\n",
       "     Alcohol Consumption  Gas Emissions Happy/IsNotHappy  \n",
       "0                  10.78          51.30              Yes  \n",
       "1                  10.26          34.23              Yes  \n",
       "2                   7.41          18.43              Yes  \n",
       "3                   9.12           2.11              Yes  \n",
       "4                   9.61         152.52              Yes  \n",
       "..                   ...            ...              ...  \n",
       "139                 8.95           2.73               No  \n",
       "140                11.27          75.68               No  \n",
       "141                 0.21           7.59               No  \n",
       "142                 2.38          14.31               No  \n",
       "143                 6.16          10.28               No  \n",
       "\n",
       "[144 rows x 13 columns]"
      ]
     },
     "execution_count": 2,
     "metadata": {},
     "output_type": "execute_result"
    }
   ],
   "source": [
    "df_2019 = pd.read_csv('/Users/misaalsingh/Downloads/Full_Table.csv')\n",
    "df_2019.columns = ['Year', 'Rank', 'Country', 'Happiness Score', 'GDP per Capita', \n",
    "                   'Social Support', 'Life Expectancy', 'Freedom', 'Generosity', \n",
    "                   'Corruption', 'Alcohol Consumption', 'Gas Emissions', 'Happy/IsNotHappy']\n",
    "df_2019 = df_2019.fillna(6.165743055555556)\n",
    "df_2019"
   ]
  },
  {
   "cell_type": "markdown",
   "id": "fd95ee53",
   "metadata": {},
   "source": [
    "Splitting the into two: test set and training set\n",
    "\n",
    "Training set is used to train the random forest model and refine the calculations of the algorithm\n",
    "\n",
    "Test set is used to asses the accuracy of the model"
   ]
  },
  {
   "cell_type": "code",
   "execution_count": null,
   "id": "0733751e",
   "metadata": {},
   "outputs": [],
   "source": [
    "col = ['GDP per Capita', 'Social Support', 'Life Expectancy', 'Freedom', 'Corruption',\n",
    "                'Alcohol Consumption', 'Gas Emissions']\n",
    "x = df_2019[col]\n",
    "y = df_2019['Happy/IsNotHappy']\n",
    "\n",
    "x_train, x_test, y_train, y_test = train_test_split(x, y, test_size=0.3, random_state=1)\n"
   ]
  },
  {
   "cell_type": "markdown",
   "id": "8e155141",
   "metadata": {},
   "source": [
    "Use the random forest classifier to create a forest object that is used to model the data. "
   ]
  },
  {
   "cell_type": "code",
   "execution_count": 4,
   "id": "0cbcc862",
   "metadata": {},
   "outputs": [
    {
     "data": {
      "text/plain": [
       "RandomForestClassifier(n_estimators=50, random_state=1)"
      ]
     },
     "execution_count": 4,
     "metadata": {},
     "output_type": "execute_result"
    }
   ],
   "source": [
    "rf_model = RandomForestClassifier(n_estimators=50, max_features=\"auto\", random_state=1)\n",
    "rf_model.fit(x_train, y_train)"
   ]
  },
  {
   "cell_type": "code",
   "execution_count": 6,
   "id": "ccd9cd0d",
   "metadata": {},
   "outputs": [
    {
     "data": {
      "text/plain": [
       "array(['No', 'Yes', 'No', 'Yes', 'Yes', 'Yes', 'Yes', 'Yes', 'No', 'No',\n",
       "       'Yes', 'Yes', 'Yes', 'No', 'Yes', 'Yes', 'Yes', 'No', 'Yes', 'No',\n",
       "       'Yes', 'Yes', 'No', 'Yes', 'No', 'No', 'No', 'Yes', 'Yes', 'Yes',\n",
       "       'No', 'No', 'Yes', 'Yes', 'Yes', 'Yes', 'No', 'No', 'Yes', 'Yes',\n",
       "       'No', 'Yes', 'Yes', 'No'], dtype=object)"
      ]
     },
     "execution_count": 6,
     "metadata": {},
     "output_type": "execute_result"
    }
   ],
   "source": [
    "pred = rf_model.predict(x_test)\n",
    "pred"
   ]
  },
  {
   "cell_type": "code",
   "execution_count": 7,
   "id": "aed9d99f",
   "metadata": {},
   "outputs": [
    {
     "data": {
      "text/plain": [
       "0.9772727272727273"
      ]
     },
     "execution_count": 7,
     "metadata": {},
     "output_type": "execute_result"
    }
   ],
   "source": [
    "accuracy_score(y_test, pred)"
   ]
  },
  {
   "cell_type": "markdown",
   "id": "65a89ffe",
   "metadata": {},
   "source": [
    "After getting the final predictions we can see that the model is accurate 97.7% of the time"
   ]
  },
  {
   "cell_type": "code",
   "execution_count": 8,
   "id": "71464826",
   "metadata": {
    "scrolled": false
   },
   "outputs": [
    {
     "name": "stdout",
     "output_type": "stream",
     "text": [
      "              precision    recall  f1-score   support\n",
      "\n",
      "          No       1.00      0.94      0.97        18\n",
      "         Yes       0.96      1.00      0.98        26\n",
      "\n",
      "    accuracy                           0.98        44\n",
      "   macro avg       0.98      0.97      0.98        44\n",
      "weighted avg       0.98      0.98      0.98        44\n",
      "\n"
     ]
    }
   ],
   "source": [
    "print(classification_report(y_test, pred))"
   ]
  },
  {
   "cell_type": "markdown",
   "id": "6aef8662",
   "metadata": {},
   "source": [
    "Using a loop to output the weighting of each category towards its effect on Happiness"
   ]
  },
  {
   "cell_type": "code",
   "execution_count": 21,
   "id": "47d13592",
   "metadata": {},
   "outputs": [
    {
     "name": "stdout",
     "output_type": "stream",
     "text": [
      "The importance of feature 'GDP per Capita' is 18.19%.\n",
      "The importance of feature 'Social Support' is 27.74%.\n",
      "The importance of feature 'Life Expectancy' is 22.39%.\n",
      "The importance of feature 'Freedom' is 9.38%.\n",
      "The importance of feature 'Corruption' is 7.29%.\n",
      "The importance of feature 'Alcohol Consumption' is 8.29%.\n",
      "The importance of feature 'Gas Emissions' is 6.72%.\n"
     ]
    }
   ],
   "source": [
    "importances = rf_model.feature_importances_\n",
    "columns = col\n",
    "i = 0\n",
    "\n",
    "while i < len(columns):\n",
    "    print(f\"The importance of feature '{columns[i]}' is {round(importances[i]*100,2)}%.\")\n",
    "    i+=1"
   ]
  },
  {
   "cell_type": "code",
   "execution_count": null,
   "id": "f9c060de",
   "metadata": {},
   "outputs": [],
   "source": []
  }
 ],
 "metadata": {
  "kernelspec": {
   "display_name": "Python 3 (ipykernel)",
   "language": "python",
   "name": "python3"
  },
  "language_info": {
   "codemirror_mode": {
    "name": "ipython",
    "version": 3
   },
   "file_extension": ".py",
   "mimetype": "text/x-python",
   "name": "python",
   "nbconvert_exporter": "python",
   "pygments_lexer": "ipython3",
   "version": "3.9.7"
  }
 },
 "nbformat": 4,
 "nbformat_minor": 5
}
